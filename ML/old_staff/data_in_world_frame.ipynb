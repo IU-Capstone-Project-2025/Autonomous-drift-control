{
  "cells": [
    {
      "cell_type": "code",
      "execution_count": null,
      "metadata": {
        "id": "Cl5FZNdRI8Yh"
      },
      "outputs": [],
      "source": [
        "import pandas as pd\n",
        "import numpy as np\n",
        "import matplotlib.pyplot as plt\n",
        "from pathlib import Path\n",
        "import re"
      ]
    },
    {
      "cell_type": "code",
      "execution_count": null,
      "metadata": {
        "colab": {
          "base_uri": "https://localhost:8080/"
        },
        "collapsed": true,
        "id": "pNAx7e5hJ2aw",
        "outputId": "7410ca9d-585f-4bd9-958d-0ec50e0268d3"
      },
      "outputs": [
        {
          "name": "stdout",
          "output_type": "stream",
          "text": [
            "Archive:  preproc_Datasets.zip\n",
            "   creating: preproc_Datasets/\n",
            "   creating: preproc_Datasets/datasets_slide/\n",
            "  inflating: preproc_Datasets/datasets_slide/dataset_raw10.csv  \n",
            "  inflating: preproc_Datasets/datasets_slide/dataset_raw15.csv  \n",
            "  inflating: preproc_Datasets/datasets_slide/dataset_raw9.csv  \n",
            "  inflating: preproc_Datasets/datasets_slide/dataset_raw11.csv  \n",
            "  inflating: preproc_Datasets/datasets_slide/dataset_raw13.csv  \n",
            "  inflating: preproc_Datasets/datasets_slide/dataset_raw14.csv  \n",
            "  inflating: preproc_Datasets/datasets_slide/dataset_raw4.csv  \n",
            " extracting: preproc_Datasets/datasets_slide/dataset_raw12.csv  \n",
            "  inflating: preproc_Datasets/datasets_slide/dataset_raw7.csv  \n",
            "  inflating: preproc_Datasets/datasets_slide/dataset_raw1.csv  \n",
            "  inflating: preproc_Datasets/datasets_slide/dataset_raw6.csv  \n",
            "  inflating: preproc_Datasets/datasets_slide/dataset_raw16.csv  \n",
            "  inflating: preproc_Datasets/datasets_slide/dataset_raw5.csv  \n",
            "  inflating: preproc_Datasets/datasets_slide/dataset_raw2.csv  \n",
            "  inflating: preproc_Datasets/datasets_slide/dataset_raw3.csv  \n",
            "  inflating: preproc_Datasets/datasets_slide/dataset_raw8.csv  \n",
            "   creating: preproc_Datasets/datasets_straight/\n",
            "  inflating: preproc_Datasets/datasets_straight/dataset_raw10.csv  \n",
            "  inflating: preproc_Datasets/datasets_straight/dataset_raw15.csv  \n",
            "  inflating: preproc_Datasets/datasets_straight/dataset_raw9.csv  \n",
            "  inflating: preproc_Datasets/datasets_straight/dataset_raw11.csv  \n",
            "  inflating: preproc_Datasets/datasets_straight/dataset_raw13.csv  \n",
            "  inflating: preproc_Datasets/datasets_straight/dataset_raw14.csv  \n",
            "  inflating: preproc_Datasets/datasets_straight/dataset_raw4.csv  \n",
            " extracting: preproc_Datasets/datasets_straight/dataset_raw12.csv  \n",
            "  inflating: preproc_Datasets/datasets_straight/dataset_raw7.csv  \n",
            "  inflating: preproc_Datasets/datasets_straight/dataset_raw1.csv  \n",
            "  inflating: preproc_Datasets/datasets_straight/dataset_raw6.csv  \n",
            "  inflating: preproc_Datasets/datasets_straight/dataset_raw16.csv  \n",
            "  inflating: preproc_Datasets/datasets_straight/dataset_raw5.csv  \n",
            "  inflating: preproc_Datasets/datasets_straight/dataset_raw2.csv  \n",
            "  inflating: preproc_Datasets/datasets_straight/dataset_raw3.csv  \n",
            "  inflating: preproc_Datasets/datasets_straight/dataset_raw8.csv  \n",
            "   creating: preproc_Datasets/datasets/\n",
            "  inflating: preproc_Datasets/datasets/dataset_raw26.csv  \n",
            "  inflating: preproc_Datasets/datasets/dataset_raw10.csv  \n",
            "  inflating: preproc_Datasets/datasets/dataset_raw20.csv  \n",
            "  inflating: preproc_Datasets/datasets/dataset_raw32.csv  \n",
            "  inflating: preproc_Datasets/datasets/dataset_raw15.csv  \n",
            "  inflating: preproc_Datasets/datasets/dataset_raw9.csv  \n",
            "  inflating: preproc_Datasets/datasets/dataset_raw11.csv  \n",
            "  inflating: preproc_Datasets/datasets/dataset_raw13.csv  \n",
            "  inflating: preproc_Datasets/datasets/dataset_raw25.csv  \n",
            "  inflating: preproc_Datasets/datasets/dataset_raw22.csv  \n",
            "  inflating: preproc_Datasets/datasets/dataset_raw17.csv  \n",
            "  inflating: preproc_Datasets/datasets/dataset_raw14.csv  \n",
            "  inflating: preproc_Datasets/datasets/dataset_raw30.csv  \n",
            "  inflating: preproc_Datasets/datasets/dataset_raw4.csv  \n",
            "  inflating: preproc_Datasets/datasets/dataset_raw31.csv  \n",
            "  inflating: preproc_Datasets/datasets/dataset_raw12.csv  \n",
            "  inflating: preproc_Datasets/datasets/dataset_raw7.csv  \n",
            "  inflating: preproc_Datasets/datasets/dataset_raw23.csv  \n",
            "  inflating: preproc_Datasets/datasets/dataset_raw1.csv  \n",
            "  inflating: preproc_Datasets/datasets/dataset_raw27.csv  \n",
            "  inflating: preproc_Datasets/datasets/dataset_raw6.csv  \n",
            "  inflating: preproc_Datasets/datasets/dataset_raw29.csv  \n",
            "  inflating: preproc_Datasets/datasets/dataset_raw16.csv  \n",
            "  inflating: preproc_Datasets/datasets/dataset_raw21.csv  \n",
            "  inflating: preproc_Datasets/datasets/dataset_raw19.csv  \n",
            "  inflating: preproc_Datasets/datasets/dataset_raw5.csv  \n",
            "  inflating: preproc_Datasets/datasets/dataset_raw2.csv  \n",
            "  inflating: preproc_Datasets/datasets/dataset_raw28.csv  \n",
            "  inflating: preproc_Datasets/datasets/dataset_raw3.csv  \n",
            "  inflating: preproc_Datasets/datasets/dataset_raw8.csv  \n",
            "  inflating: preproc_Datasets/datasets/dataset_raw18.csv  \n",
            "  inflating: preproc_Datasets/datasets/dataset_raw24.csv  \n"
          ]
        }
      ],
      "source": [
        "!unzip preproc_Datasets.zip"
      ]
    },
    {
      "cell_type": "code",
      "execution_count": null,
      "metadata": {
        "id": "Losff__0JlYG"
      },
      "outputs": [],
      "source": [
        "DATA_DIR = Path(\"preproc_Datasets/datasets\")      # при необходимости поменяйте путь\n",
        "PATTERN   = \"dataset_raw*.csv\"            # шаблон имён файлов\n",
        "\n",
        "names = [\"t\", \"ax\", \"ay\", \"yawRate\", \"steer\"]  # 6-я временная\n",
        "\n",
        "def natural_key(p):                     # сортировка raw1, raw2, …\n",
        "    parts = re.split(r\"(\\d+)\", p.stem)\n",
        "    return [int(s) if s.isdigit() else s for s in parts]\n",
        "\n",
        "dfs_circle = []\n",
        "for f in sorted(DATA_DIR.glob(PATTERN), key=natural_key):\n",
        "    df = pd.read_csv(\n",
        "        f,\n",
        "        engine=\"python\"     # терпимее к кривым строкам\n",
        "    )\n",
        "    dfs_circle.append(df)"
      ]
    },
    {
      "cell_type": "code",
      "execution_count": null,
      "metadata": {
        "id": "4IV7QsWJKCW1"
      },
      "outputs": [],
      "source": [
        "DATA_DIR = Path(\"preproc_Datasets/datasets_slide\")      # при необходимости поменяйте путь\n",
        "PATTERN   = \"dataset_raw*.csv\"            # шаблон имён файлов\n",
        "\n",
        "names = [\"t\", \"ax\", \"ay\", \"yawRate\", \"steer\"]  # 6-я временная\n",
        "\n",
        "def natural_key(p):                     # сортировка raw1, raw2, …\n",
        "    parts = re.split(r\"(\\d+)\", p.stem)\n",
        "    return [int(s) if s.isdigit() else s for s in parts]\n",
        "\n",
        "dfs_zanos = []\n",
        "for f in sorted(DATA_DIR.glob(PATTERN), key=natural_key):\n",
        "    df = pd.read_csv(\n",
        "        f,\n",
        "        engine=\"python\"     # терпимее к кривым строкам\n",
        "    )\n",
        "    dfs_zanos.append(df)"
      ]
    },
    {
      "cell_type": "code",
      "execution_count": null,
      "metadata": {
        "id": "NBKHhT84NMqd"
      },
      "outputs": [],
      "source": [
        "DATA_DIR = Path(\"preproc_Datasets/datasets_straight\")      # при необходимости поменяйте путь\n",
        "PATTERN   = \"dataset_raw*.csv\"            # шаблон имён файлов\n",
        "\n",
        "names = [\"t\", \"ax\", \"ay\", \"yawRate\", \"steer\"]  # 6-я временная\n",
        "\n",
        "def natural_key(p):                     # сортировка raw1, raw2, …\n",
        "    parts = re.split(r\"(\\d+)\", p.stem)\n",
        "    return [int(s) if s.isdigit() else s for s in parts]\n",
        "\n",
        "dfs_forward = []\n",
        "for f in sorted(DATA_DIR.glob(PATTERN), key=natural_key):\n",
        "    df = pd.read_csv(\n",
        "        f,\n",
        "        engine=\"python\"     # терпимее к кривым строкам\n",
        "    )\n",
        "    dfs_forward.append(df)"
      ]
    },
    {
      "cell_type": "code",
      "execution_count": null,
      "metadata": {
        "id": "znVItxVTmRfj"
      },
      "outputs": [],
      "source": [
        "def plot_data(df):\n",
        "    fig, axs = plt.subplots(1, 2, figsize=(10, 5))\n",
        "    # угловое ускорение\n",
        "    axs[0].plot(df[\"t_sec\"], df[\"angular_accel\"], color='tab:red')\n",
        "    axs[0].set_title(\"Angular Acceleration\")\n",
        "    axs[0].set_xlabel(\"Time (s)\")\n",
        "    axs[0].set_ylabel(\"Angular Accel (deg/s²)\")\n",
        "    axs[0].grid(True)\n",
        "\n",
        "    # траектория\n",
        "    axs[1].plot(df[\"x_world\"], df[\"y_world\"], color='tab:blue')\n",
        "    axs[1].set_title(\"Trajectory (World Frame)\")\n",
        "    axs[1].set_xlabel(\"X (m)\")\n",
        "    axs[1].set_ylabel(\"Y (m)\")\n",
        "    axs[1].axis('equal')\n",
        "    axs[1].grid(True)\n",
        "\n",
        "    plt.tight_layout()\n",
        "    plt.show()"
      ]
    },
    {
      "cell_type": "code",
      "execution_count": null,
      "metadata": {
        "id": "iS5dL6LQJCJq"
      },
      "outputs": [],
      "source": [
        "def data_to_world_frame(df):\n",
        "    # Время в секундах\n",
        "    df[\"t_sec\"] = df[\"t\"] / 1000\n",
        "    dt = df[\"t_sec\"].diff().fillna(0.02).astype(float)  # подставим 20 мс, если NaN\n",
        "\n",
        "    # Интеграция угла\n",
        "    yaw = [0]\n",
        "    for i in range(1, len(df)):\n",
        "        dyaw = df[\"yawRate\"].iloc[i] * dt.iloc[i]\n",
        "        yaw.append(yaw[-1] + dyaw)\n",
        "    df[\"yaw\"] = yaw\n",
        "\n",
        "    # Перевод угла в радианы\n",
        "    df[\"yaw_rad\"] = np.deg2rad(df[\"yaw\"])\n",
        "\n",
        "    # Поворот локального ускорения в мировую систему координат\n",
        "    ax_world = []\n",
        "    ay_world = []\n",
        "\n",
        "    for i in range(len(df)):\n",
        "        theta = df[\"yaw_rad\"].iloc[i]\n",
        "        ax = df[\"ax\"].iloc[i]\n",
        "        ay = df[\"ay\"].iloc[i]\n",
        "\n",
        "        ax_w = ax * np.cos(theta) - ay * np.sin(theta)\n",
        "        ay_w = ax * np.sin(theta) + ay * np.cos(theta)\n",
        "\n",
        "        ax_world.append(ax_w)\n",
        "        ay_world.append(ay_w)\n",
        "\n",
        "    df[\"ax_world\"] = ax_world\n",
        "    df[\"ay_world\"] = ay_world\n",
        "\n",
        "    df[\"angular_accel\"] = df[\"yawRate\"].diff() / dt\n",
        "    df[\"angular_accel\"] = df[\"angular_accel\"].fillna(0).astype(float)\n",
        "\n",
        "    # Интеграция для траектории\n",
        "    vx, vy, x, y = [0], [0], [0], [0]\n",
        "    for i in range(1, len(df)):\n",
        "        dt_i = dt.iloc[i]\n",
        "        vx_i = vx[-1] + df[\"ax_world\"].iloc[i] * dt_i\n",
        "        vy_i = vy[-1] + df[\"ay_world\"].iloc[i] * dt_i\n",
        "        vx.append(vx_i)\n",
        "        vy.append(vy_i)\n",
        "        x_i = x[-1] + vx_i * dt_i\n",
        "        y_i = y[-1] + vy_i * dt_i\n",
        "        x.append(x_i)\n",
        "        y.append(y_i)\n",
        "    df[\"x_world\"] = x\n",
        "    df[\"y_world\"] = y\n",
        "\n",
        "    return df"
      ]
    },
    {
      "cell_type": "code",
      "execution_count": null,
      "metadata": {
        "id": "LSk2loUmMg10"
      },
      "outputs": [],
      "source": [
        "!mkdir -p data_in_world_frame/datasets\n",
        "!mkdir -p data_in_world_frame/datasets_slide\n",
        "!mkdir -p data_in_world_frame/datasets_straight"
      ]
    },
    {
      "cell_type": "code",
      "execution_count": null,
      "metadata": {
        "colab": {
          "base_uri": "https://localhost:8080/",
          "height": 1000
        },
        "id": "7xXPhxDjJQNP",
        "outputId": "8216cea8-1c14-4192-b28e-8e53526f0794"
      },
      "outputs": [],
      "source": [
        "n = 1\n",
        "for df_i in dfs_circle:\n",
        "    df_new = data_to_world_frame(df_i)\n",
        "    df_new.to_csv(f'data_in_world_frame/datasets/dataset_raw{n}.csv', index=False)\n",
        "    if n <= 5:\n",
        "        plot_data(df)\n",
        "    n += 1"
      ]
    },
    {
      "cell_type": "code",
      "execution_count": null,
      "metadata": {
        "colab": {
          "base_uri": "https://localhost:8080/",
          "height": 1000
        },
        "id": "Tj-BYhvrM_lo",
        "outputId": "2db3ffdd-a9a7-4db0-c567-9fe5c8f6286e"
      },
      "outputs": [],
      "source": [
        "n = 1\n",
        "for df_i in dfs_zanos:\n",
        "    df_new = data_to_world_frame(df_i)\n",
        "    df_new.to_csv(f'data_in_world_frame/datasets_slide/dataset_raw{n}.csv', index=False)\n",
        "    if n <= 5:\n",
        "        plot_data(df)\n",
        "    n += 1"
      ]
    },
    {
      "cell_type": "code",
      "execution_count": null,
      "metadata": {
        "colab": {
          "base_uri": "https://localhost:8080/",
          "height": 1000
        },
        "id": "NVeEKWpdNCSA",
        "outputId": "c304dfe2-b5fa-4334-f610-334cbbdd0fd9"
      },
      "outputs": [],
      "source": [
        "n = 1\n",
        "for df_i in dfs_forward:\n",
        "    df_new = data_to_world_frame(df_i)\n",
        "    df_new.to_csv(f'data_in_world_frame/datasets_straight/dataset_raw{n}.csv', index=False)\n",
        "    if n <= 5:\n",
        "        plot_data(df)\n",
        "    n += 1"
      ]
    },
    {
      "cell_type": "code",
      "execution_count": null,
      "metadata": {
        "colab": {
          "base_uri": "https://localhost:8080/"
        },
        "id": "QiYyI0-UJSp7",
        "outputId": "aca63034-71ff-4360-c8c1-116dec6b7de3"
      },
      "outputs": [
        {
          "name": "stdout",
          "output_type": "stream",
          "text": [
            "  adding: data_in_world_frame/ (stored 0%)\n",
            "  adding: data_in_world_frame/datasets_slide/ (stored 0%)\n",
            "  adding: data_in_world_frame/datasets_slide/dataset_raw10.csv (deflated 53%)\n",
            "  adding: data_in_world_frame/datasets_slide/dataset_raw15.csv (deflated 53%)\n",
            "  adding: data_in_world_frame/datasets_slide/dataset_raw9.csv (deflated 53%)\n",
            "  adding: data_in_world_frame/datasets_slide/dataset_raw11.csv (deflated 53%)\n",
            "  adding: data_in_world_frame/datasets_slide/dataset_raw13.csv (deflated 54%)\n",
            "  adding: data_in_world_frame/datasets_slide/dataset_raw14.csv (deflated 53%)\n",
            "  adding: data_in_world_frame/datasets_slide/dataset_raw4.csv (deflated 52%)\n",
            "  adding: data_in_world_frame/datasets_slide/dataset_raw12.csv (deflated 19%)\n",
            "  adding: data_in_world_frame/datasets_slide/dataset_raw7.csv (deflated 53%)\n",
            "  adding: data_in_world_frame/datasets_slide/dataset_raw1.csv (deflated 53%)\n",
            "  adding: data_in_world_frame/datasets_slide/dataset_raw6.csv (deflated 53%)\n",
            "  adding: data_in_world_frame/datasets_slide/dataset_raw16.csv (deflated 53%)\n",
            "  adding: data_in_world_frame/datasets_slide/dataset_raw5.csv (deflated 53%)\n",
            "  adding: data_in_world_frame/datasets_slide/dataset_raw2.csv (deflated 53%)\n",
            "  adding: data_in_world_frame/datasets_slide/dataset_raw3.csv (deflated 53%)\n",
            "  adding: data_in_world_frame/datasets_slide/dataset_raw8.csv (deflated 53%)\n",
            "  adding: data_in_world_frame/datasets_straight/ (stored 0%)\n",
            "  adding: data_in_world_frame/datasets_straight/dataset_raw10.csv (deflated 49%)\n",
            "  adding: data_in_world_frame/datasets_straight/dataset_raw15.csv (deflated 53%)\n",
            "  adding: data_in_world_frame/datasets_straight/dataset_raw9.csv (deflated 54%)\n",
            "  adding: data_in_world_frame/datasets_straight/dataset_raw11.csv (deflated 54%)\n",
            "  adding: data_in_world_frame/datasets_straight/dataset_raw13.csv (deflated 54%)\n",
            "  adding: data_in_world_frame/datasets_straight/dataset_raw14.csv (deflated 52%)\n",
            "  adding: data_in_world_frame/datasets_straight/dataset_raw4.csv (deflated 55%)\n",
            "  adding: data_in_world_frame/datasets_straight/dataset_raw12.csv (deflated 19%)\n",
            "  adding: data_in_world_frame/datasets_straight/dataset_raw7.csv (deflated 52%)\n",
            "  adding: data_in_world_frame/datasets_straight/dataset_raw1.csv (deflated 51%)\n",
            "  adding: data_in_world_frame/datasets_straight/dataset_raw6.csv (deflated 49%)\n",
            "  adding: data_in_world_frame/datasets_straight/dataset_raw16.csv (deflated 52%)\n",
            "  adding: data_in_world_frame/datasets_straight/dataset_raw5.csv (deflated 52%)\n",
            "  adding: data_in_world_frame/datasets_straight/dataset_raw2.csv (deflated 52%)\n",
            "  adding: data_in_world_frame/datasets_straight/dataset_raw3.csv (deflated 52%)\n",
            "  adding: data_in_world_frame/datasets_straight/dataset_raw8.csv (deflated 53%)\n",
            "  adding: data_in_world_frame/datasets/ (stored 0%)\n",
            "  adding: data_in_world_frame/datasets/dataset_raw26.csv (deflated 52%)\n",
            "  adding: data_in_world_frame/datasets/dataset_raw10.csv (deflated 52%)\n",
            "  adding: data_in_world_frame/datasets/dataset_raw20.csv (deflated 52%)\n",
            "  adding: data_in_world_frame/datasets/dataset_raw32.csv (deflated 52%)\n",
            "  adding: data_in_world_frame/datasets/dataset_raw15.csv (deflated 53%)\n",
            "  adding: data_in_world_frame/datasets/dataset_raw9.csv (deflated 52%)\n",
            "  adding: data_in_world_frame/datasets/dataset_raw11.csv (deflated 54%)\n",
            "  adding: data_in_world_frame/datasets/dataset_raw13.csv (deflated 52%)\n",
            "  adding: data_in_world_frame/datasets/dataset_raw25.csv (deflated 49%)\n",
            "  adding: data_in_world_frame/datasets/dataset_raw22.csv (deflated 53%)\n",
            "  adding: data_in_world_frame/datasets/dataset_raw17.csv (deflated 52%)\n",
            "  adding: data_in_world_frame/datasets/dataset_raw14.csv (deflated 52%)\n",
            "  adding: data_in_world_frame/datasets/dataset_raw30.csv (deflated 52%)\n",
            "  adding: data_in_world_frame/datasets/dataset_raw4.csv (deflated 51%)\n",
            "  adding: data_in_world_frame/datasets/dataset_raw31.csv (deflated 51%)\n",
            "  adding: data_in_world_frame/datasets/dataset_raw12.csv (deflated 53%)\n",
            "  adding: data_in_world_frame/datasets/dataset_raw7.csv (deflated 52%)\n",
            "  adding: data_in_world_frame/datasets/dataset_raw23.csv (deflated 52%)\n",
            "  adding: data_in_world_frame/datasets/dataset_raw1.csv (deflated 53%)\n",
            "  adding: data_in_world_frame/datasets/dataset_raw27.csv (deflated 52%)\n",
            "  adding: data_in_world_frame/datasets/dataset_raw6.csv (deflated 52%)\n",
            "  adding: data_in_world_frame/datasets/dataset_raw29.csv (deflated 53%)\n",
            "  adding: data_in_world_frame/datasets/dataset_raw16.csv (deflated 52%)\n",
            "  adding: data_in_world_frame/datasets/dataset_raw21.csv (deflated 51%)\n",
            "  adding: data_in_world_frame/datasets/dataset_raw19.csv (deflated 53%)\n",
            "  adding: data_in_world_frame/datasets/dataset_raw5.csv (deflated 53%)\n",
            "  adding: data_in_world_frame/datasets/dataset_raw2.csv (deflated 52%)\n",
            "  adding: data_in_world_frame/datasets/dataset_raw28.csv (deflated 51%)\n",
            "  adding: data_in_world_frame/datasets/dataset_raw3.csv (deflated 51%)\n",
            "  adding: data_in_world_frame/datasets/dataset_raw8.csv (deflated 53%)\n",
            "  adding: data_in_world_frame/datasets/dataset_raw18.csv (deflated 52%)\n",
            "  adding: data_in_world_frame/datasets/dataset_raw24.csv (deflated 52%)\n"
          ]
        }
      ],
      "source": [
        "!zip -r data_in_world_frame.zip data_in_world_frame/"
      ]
    },
    {
      "cell_type": "code",
      "execution_count": null,
      "metadata": {
        "id": "-NXpkDekN3Y9"
      },
      "outputs": [],
      "source": []
    }
  ],
  "metadata": {
    "colab": {
      "provenance": []
    },
    "kernelspec": {
      "display_name": "Python 3",
      "name": "python3"
    },
    "language_info": {
      "name": "python"
    }
  },
  "nbformat": 4,
  "nbformat_minor": 0
}
