{
 "cells": [
  {
   "cell_type": "code",
   "id": "initial_id",
   "metadata": {
    "collapsed": true,
    "ExecuteTime": {
     "end_time": "2025-06-24T20:53:05.374070Z",
     "start_time": "2025-06-24T20:53:05.299Z"
    }
   },
   "source": [
    "from d3rlpy.dataset import MDPDataset\n",
    "from d3rlpy.algos   import CQL\n",
    "import torch, torch.nn as nn, torch.optim as optim, numpy as np\n",
    "\n",
    "\n",
    "dataset = np.load(\"model_dataset.npz\")[\"data\"]\n",
    "s,a,sn,r = dataset[:,:4], dataset[:,4:5], dataset[:,5:9], dataset[:,9]\n",
    "ds = MDPDataset(s, a, r, sn)\n",
    "algo = CQL(use_gpu=True)\n",
    "algo.fit(ds, n_steps=2_000_000)"
   ],
   "outputs": [
    {
     "ename": "AssertionError",
     "evalue": "No episode termination was found. Either terminals or timeouts must include non-zero values.",
     "output_type": "error",
     "traceback": [
      "\u001B[31m---------------------------------------------------------------------------\u001B[39m",
      "\u001B[31mAssertionError\u001B[39m                            Traceback (most recent call last)",
      "\u001B[36mCell\u001B[39m\u001B[36m \u001B[39m\u001B[32mIn[3]\u001B[39m\u001B[32m, line 8\u001B[39m\n\u001B[32m      6\u001B[39m dataset = np.load(\u001B[33m\"\u001B[39m\u001B[33mmodel_dataset.npz\u001B[39m\u001B[33m\"\u001B[39m)[\u001B[33m\"\u001B[39m\u001B[33mdata\u001B[39m\u001B[33m\"\u001B[39m]\n\u001B[32m      7\u001B[39m s,a,sn,r = dataset[:,:\u001B[32m4\u001B[39m], dataset[:,\u001B[32m4\u001B[39m:\u001B[32m5\u001B[39m], dataset[:,\u001B[32m5\u001B[39m:\u001B[32m9\u001B[39m], dataset[:,\u001B[32m9\u001B[39m]\n\u001B[32m----> \u001B[39m\u001B[32m8\u001B[39m ds = \u001B[43mMDPDataset\u001B[49m\u001B[43m(\u001B[49m\u001B[43ms\u001B[49m\u001B[43m,\u001B[49m\u001B[43m \u001B[49m\u001B[43ma\u001B[49m\u001B[43m,\u001B[49m\u001B[43m \u001B[49m\u001B[43mr\u001B[49m\u001B[43m,\u001B[49m\u001B[43m \u001B[49m\u001B[43msn\u001B[49m\u001B[43m)\u001B[49m\n\u001B[32m      9\u001B[39m algo = CQL(use_gpu=\u001B[38;5;28;01mTrue\u001B[39;00m)\n\u001B[32m     10\u001B[39m algo.fit(ds, n_steps=\u001B[32m2_000_000\u001B[39m)\n",
      "\u001B[36mFile \u001B[39m\u001B[32m~\\Desktop\\Код\\Питон\\acm\\.venv\\Lib\\site-packages\\d3rlpy\\dataset\\compat.py:52\u001B[39m, in \u001B[36mMDPDataset.__init__\u001B[39m\u001B[34m(self, observations, actions, rewards, terminals, timeouts, transition_picker, trajectory_slicer, action_space, action_size)\u001B[39m\n\u001B[32m     40\u001B[39m \u001B[38;5;28;01mdef\u001B[39;00m\u001B[38;5;250m \u001B[39m\u001B[34m__init__\u001B[39m(\n\u001B[32m     41\u001B[39m     \u001B[38;5;28mself\u001B[39m,\n\u001B[32m     42\u001B[39m     observations: ObservationSequence,\n\u001B[32m   (...)\u001B[39m\u001B[32m     50\u001B[39m     action_size: Optional[\u001B[38;5;28mint\u001B[39m] = \u001B[38;5;28;01mNone\u001B[39;00m,\n\u001B[32m     51\u001B[39m ):\n\u001B[32m---> \u001B[39m\u001B[32m52\u001B[39m     episode_generator = \u001B[43mEpisodeGenerator\u001B[49m\u001B[43m(\u001B[49m\n\u001B[32m     53\u001B[39m \u001B[43m        \u001B[49m\u001B[43mobservations\u001B[49m\u001B[43m=\u001B[49m\u001B[43mobservations\u001B[49m\u001B[43m,\u001B[49m\n\u001B[32m     54\u001B[39m \u001B[43m        \u001B[49m\u001B[43mactions\u001B[49m\u001B[43m=\u001B[49m\u001B[43mactions\u001B[49m\u001B[43m,\u001B[49m\n\u001B[32m     55\u001B[39m \u001B[43m        \u001B[49m\u001B[43mrewards\u001B[49m\u001B[43m=\u001B[49m\u001B[43mrewards\u001B[49m\u001B[43m,\u001B[49m\n\u001B[32m     56\u001B[39m \u001B[43m        \u001B[49m\u001B[43mterminals\u001B[49m\u001B[43m=\u001B[49m\u001B[43mterminals\u001B[49m\u001B[43m,\u001B[49m\n\u001B[32m     57\u001B[39m \u001B[43m        \u001B[49m\u001B[43mtimeouts\u001B[49m\u001B[43m=\u001B[49m\u001B[43mtimeouts\u001B[49m\u001B[43m,\u001B[49m\n\u001B[32m     58\u001B[39m \u001B[43m    \u001B[49m\u001B[43m)\u001B[49m\n\u001B[32m     59\u001B[39m     buffer = InfiniteBuffer()\n\u001B[32m     60\u001B[39m     \u001B[38;5;28msuper\u001B[39m().\u001B[34m__init__\u001B[39m(\n\u001B[32m     61\u001B[39m         buffer,\n\u001B[32m     62\u001B[39m         episodes=episode_generator(),\n\u001B[32m   (...)\u001B[39m\u001B[32m     66\u001B[39m         action_size=action_size,\n\u001B[32m     67\u001B[39m     )\n",
      "\u001B[36mFile \u001B[39m\u001B[32m~\\Desktop\\Код\\Питон\\acm\\.venv\\Lib\\site-packages\\d3rlpy\\dataset\\episode_generator.py:64\u001B[39m, in \u001B[36mEpisodeGenerator.__init__\u001B[39m\u001B[34m(self, observations, actions, rewards, terminals, timeouts)\u001B[39m\n\u001B[32m     59\u001B[39m     timeouts = np.zeros_like(terminals)\n\u001B[32m     61\u001B[39m \u001B[38;5;28;01massert\u001B[39;00m (\n\u001B[32m     62\u001B[39m     np.sum(np.logical_and(terminals, timeouts)) == \u001B[32m0\u001B[39m\n\u001B[32m     63\u001B[39m ), \u001B[33m\"\u001B[39m\u001B[33mterminals and timeouts never become True at the same time\u001B[39m\u001B[33m\"\u001B[39m\n\u001B[32m---> \u001B[39m\u001B[32m64\u001B[39m \u001B[38;5;28;01massert\u001B[39;00m (np.sum(terminals) + np.sum(timeouts)) > \u001B[32m0\u001B[39m, (\n\u001B[32m     65\u001B[39m     \u001B[33m\"\u001B[39m\u001B[33mNo episode termination was found. Either terminals\u001B[39m\u001B[33m\"\u001B[39m\n\u001B[32m     66\u001B[39m     \u001B[33m\"\u001B[39m\u001B[33m or timeouts must include non-zero values.\u001B[39m\u001B[33m\"\u001B[39m\n\u001B[32m     67\u001B[39m )\n\u001B[32m     69\u001B[39m \u001B[38;5;28mself\u001B[39m._observations = observations\n\u001B[32m     70\u001B[39m \u001B[38;5;28mself\u001B[39m._actions = actions\n",
      "\u001B[31mAssertionError\u001B[39m: No episode termination was found. Either terminals or timeouts must include non-zero values."
     ]
    }
   ],
   "execution_count": 3
  },
  {
   "metadata": {},
   "cell_type": "code",
   "outputs": [],
   "execution_count": null,
   "source": "",
   "id": "11262834fa2d2b1c"
  }
 ],
 "metadata": {
  "kernelspec": {
   "display_name": "Python 3",
   "language": "python",
   "name": "python3"
  },
  "language_info": {
   "codemirror_mode": {
    "name": "ipython",
    "version": 2
   },
   "file_extension": ".py",
   "mimetype": "text/x-python",
   "name": "python",
   "nbconvert_exporter": "python",
   "pygments_lexer": "ipython2",
   "version": "2.7.6"
  }
 },
 "nbformat": 4,
 "nbformat_minor": 5
}
