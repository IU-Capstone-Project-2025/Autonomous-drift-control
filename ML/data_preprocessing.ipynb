{
 "cells": [
  {
   "cell_type": "code",
   "execution_count": 81,
   "id": "f58c5aaca31e98de",
   "metadata": {
    "ExecuteTime": {
     "end_time": "2025-06-24T18:45:57.290524Z",
     "start_time": "2025-06-24T18:45:57.286870Z"
    },
    "id": "f58c5aaca31e98de"
   },
   "outputs": [],
   "source": [
    "import pandas as pd\n",
    "from pathlib import Path\n",
    "import re"
   ]
  },
  {
   "cell_type": "code",
   "execution_count": 82,
   "id": "FF0QtY0w86VV",
   "metadata": {
    "ExecuteTime": {
     "end_time": "2025-06-24T18:45:57.612454Z",
     "start_time": "2025-06-24T18:45:57.322531Z"
    },
    "colab": {
     "base_uri": "https://localhost:8080/"
    },
    "id": "FF0QtY0w86VV",
    "outputId": "d4567af9-650d-4cbf-df91-7f81db158094"
   },
   "outputs": [
    {
     "name": "stderr",
     "output_type": "stream",
     "text": [
      "\"unzip\" ­Ґ пў«пҐвбп ў­гваҐ­­Ґ© Ё«Ё ў­Ґи­Ґ©\n",
      "Є®¬ ­¤®©, ЁбЇ®«­пҐ¬®© Їа®Ја ¬¬®© Ё«Ё Ї ЄҐв­л¬ д ©«®¬.\n"
     ]
    }
   ],
   "source": [
    "!unzip Datasets.zip -d Datasets"
   ]
  },
  {
   "cell_type": "code",
   "execution_count": null,
   "id": "initial_id",
   "metadata": {
    "ExecuteTime": {
     "end_time": "2025-06-24T18:45:57.618326Z",
     "start_time": "2025-06-24T18:45:57.613460Z"
    },
    "collapsed": true,
    "id": "initial_id"
   },
   "outputs": [],
   "source": [
    "DATA_DIR = Path(\"Datasets/Datasets/datasets\")  \n",
    "PATTERN   = \"dataset_raw*.csv\" \n",
    "\n",
    "names = [\"t\", \"ax\", \"ay\", \"yawRate\", \"steer\", \"_trash\"]  # 6-я временная\n",
    "\n",
    "def natural_key(p):\n",
    "    parts = re.split(r\"(\\d+)\", p.stem)\n",
    "    return [int(s) if s.isdigit() else s for s in parts]\n",
    "\n",
    "dfs_circle = []\n",
    "for f in sorted(DATA_DIR.glob(PATTERN), key=natural_key):\n",
    "    df = pd.read_csv(\n",
    "        f,\n",
    "        names=names,        # задаём 6 имён вручную\n",
    "        engine=\"python\"     # терпимее к кривым строкам\n",
    "    )\n",
    "    dfs_circle.append(df.drop(columns=\"_trash\")[1:])  # удаляем фиктивный столбец\n"
   ]
  },
  {
   "cell_type": "code",
   "execution_count": null,
   "id": "5307c3acda83efe",
   "metadata": {
    "ExecuteTime": {
     "end_time": "2025-06-24T18:45:57.651568Z",
     "start_time": "2025-06-24T18:45:57.619334Z"
    },
    "colab": {
     "base_uri": "https://localhost:8080/"
    },
    "collapsed": true,
    "id": "5307c3acda83efe",
    "outputId": "6d7fb883-2acc-4090-f0d5-36f5ab8264a6"
   },
   "outputs": [
    {
     "data": {
      "text/plain": [
       "[]"
      ]
     },
     "execution_count": 84,
     "metadata": {},
     "output_type": "execute_result"
    }
   ],
   "source": [
    "len(dfs_circle)"
   ]
  },
  {
   "cell_type": "code",
   "execution_count": null,
   "id": "e8d32b0c34b64293",
   "metadata": {
    "ExecuteTime": {
     "end_time": "2025-06-24T18:45:57.658553Z",
     "start_time": "2025-06-24T18:45:57.653576Z"
    },
    "id": "e8d32b0c34b64293"
   },
   "outputs": [],
   "source": [
    "DATA_DIR = Path(\"Datasets/Datasets/datasets_slide\") \n",
    "PATTERN   = \"dataset_raw*.csv\" \n",
    "\n",
    "names = [\"t\", \"ax\", \"ay\", \"yawRate\", \"steer\", \"_trash\"]  \n",
    "\n",
    "def natural_key(p):                   \n",
    "    parts = re.split(r\"(\\d+)\", p.stem)\n",
    "    return [int(s) if s.isdigit() else s for s in parts]\n",
    "\n",
    "dfs_zanos = []\n",
    "for f in sorted(DATA_DIR.glob(PATTERN), key=natural_key):\n",
    "    df = pd.read_csv(\n",
    "        f,\n",
    "        names=names,       \n",
    "        engine=\"python\"     \n",
    "    )\n",
    "    dfs_zanos.append(df.drop(columns=\"_trash\")[1:])  # удаляем фиктивный столбец\n"
   ]
  },
  {
   "cell_type": "code",
   "execution_count": null,
   "id": "72b3b26bec69632c",
   "metadata": {
    "ExecuteTime": {
     "end_time": "2025-06-24T18:45:57.665175Z",
     "start_time": "2025-06-24T18:45:57.659560Z"
    },
    "colab": {
     "base_uri": "https://localhost:8080/"
    },
    "collapsed": true,
    "id": "72b3b26bec69632c",
    "outputId": "55597ae7-3ce6-4c4c-ff2c-bdc309f68671"
   },
   "outputs": [
    {
     "data": {
      "text/plain": [
       "[]"
      ]
     },
     "execution_count": 86,
     "metadata": {},
     "output_type": "execute_result"
    }
   ],
   "source": [
    "len(dfs_zanos)"
   ]
  },
  {
   "cell_type": "code",
   "execution_count": null,
   "id": "29bd1d3c96b185c9",
   "metadata": {
    "ExecuteTime": {
     "end_time": "2025-06-24T18:45:57.671720Z",
     "start_time": "2025-06-24T18:45:57.666181Z"
    },
    "id": "29bd1d3c96b185c9"
   },
   "outputs": [],
   "source": [
    "DATA_DIR = Path(\"Datasets/Datasets/datasets_straight\")    \n",
    "PATTERN   = \"dataset_raw*.csv\"  \n",
    "\n",
    "names = [\"t\", \"ax\", \"ay\", \"yawRate\", \"steer\", \"_trash\"]\n",
    "\n",
    "def natural_key(p):                  \n",
    "    parts = re.split(r\"(\\d+)\", p.stem)\n",
    "    return [int(s) if s.isdigit() else s for s in parts]\n",
    "\n",
    "dfs_forward = []\n",
    "for f in sorted(DATA_DIR.glob(PATTERN), key=natural_key):\n",
    "    df = pd.read_csv(\n",
    "        f,\n",
    "        names=names,      \n",
    "        engine=\"python\"  \n",
    "    )\n",
    "    dfs_forward.append(df.drop(columns=\"_trash\")[1:])  # удаляем фиктивный столбец\n"
   ]
  },
  {
   "cell_type": "code",
   "execution_count": null,
   "id": "1b77c0a55383b011",
   "metadata": {
    "ExecuteTime": {
     "end_time": "2025-06-24T18:45:57.705831Z",
     "start_time": "2025-06-24T18:45:57.673308Z"
    },
    "id": "1b77c0a55383b011"
   },
   "outputs": [
    {
     "data": {
      "text/plain": [
       "[]"
      ]
     },
     "execution_count": 88,
     "metadata": {},
     "output_type": "execute_result"
    }
   ],
   "source": [
    "len(dfs_forward)"
   ]
  },
  {
   "cell_type": "code",
   "execution_count": 89,
   "id": "52Q6aCTiFZ66",
   "metadata": {
    "ExecuteTime": {
     "end_time": "2025-06-24T18:45:57.753418Z",
     "start_time": "2025-06-24T18:45:57.707053Z"
    },
    "id": "52Q6aCTiFZ66"
   },
   "outputs": [
    {
     "name": "stderr",
     "output_type": "stream",
     "text": [
      "ЋиЁЎЄ  ў бЁ­в ЄбЁбҐ Є®¬ ­¤л.\n",
      "ЋиЁЎЄ  ў бЁ­в ЄбЁбҐ Є®¬ ­¤л.\n",
      "ЋиЁЎЄ  ў бЁ­в ЄбЁбҐ Є®¬ ­¤л.\n"
     ]
    }
   ],
   "source": [
    "!mkdir -p preproc_Datasets/datasets\n",
    "!mkdir -p preproc_Datasets/datasets_slide\n",
    "!mkdir -p preproc_Datasets/datasets_straight"
   ]
  },
  {
   "cell_type": "code",
   "execution_count": 90,
   "id": "RBAQNMLe9top",
   "metadata": {
    "ExecuteTime": {
     "end_time": "2025-06-24T18:45:57.759763Z",
     "start_time": "2025-06-24T18:45:57.754426Z"
    },
    "id": "RBAQNMLe9top"
   },
   "outputs": [],
   "source": [
    "n = 1\n",
    "for df_i in dfs_circle:\n",
    "    df_i.dropna(inplace=True)\n",
    "    min_t = df_i['t'].min()\n",
    "    indices_to_drop = []\n",
    "\n",
    "    for i, row in df_i.iterrows():\n",
    "        if row['t'] > min_t:\n",
    "            indices_to_drop.append(i)\n",
    "        elif row['t'] == min_t:\n",
    "            break\n",
    "    df_i.drop(index=indices_to_drop, inplace=True)\n",
    "    df_i.to_csv(f'preproc_Datasets/datasets/dataset_raw{n}.csv', index=False)\n",
    "    n += 1"
   ]
  },
  {
   "cell_type": "code",
   "execution_count": 91,
   "id": "JTUatl0I92OZ",
   "metadata": {
    "ExecuteTime": {
     "end_time": "2025-06-24T18:45:57.767243Z",
     "start_time": "2025-06-24T18:45:57.762774Z"
    },
    "id": "JTUatl0I92OZ"
   },
   "outputs": [],
   "source": [
    "n = 1\n",
    "for df_i in dfs_zanos:\n",
    "    df_i.dropna(inplace=True)\n",
    "    min_t = df_i['t'].min()\n",
    "    indices_to_drop = []\n",
    "\n",
    "    for i, row in df_i.iterrows():\n",
    "        if row['t'] > min_t:\n",
    "            indices_to_drop.append(i)\n",
    "        elif row['t'] == min_t:\n",
    "            break\n",
    "    df_i.drop(index=indices_to_drop, inplace=True)\n",
    "    df_i.to_csv(f'preproc_Datasets/datasets_slide/dataset_raw{n}.csv', index=False)\n",
    "    n += 1"
   ]
  },
  {
   "cell_type": "code",
   "execution_count": 92,
   "id": "uIgxwVE6GWnF",
   "metadata": {
    "ExecuteTime": {
     "end_time": "2025-06-24T18:45:57.774778Z",
     "start_time": "2025-06-24T18:45:57.768255Z"
    },
    "id": "uIgxwVE6GWnF"
   },
   "outputs": [],
   "source": [
    "n = 1\n",
    "for df_i in dfs_forward:\n",
    "    df_i.dropna(inplace=True)\n",
    "    min_t = df_i['t'].min()\n",
    "    indices_to_drop = []\n",
    "\n",
    "    for i, row in df_i.iterrows():\n",
    "        if row['t'] > min_t:\n",
    "            indices_to_drop.append(i)\n",
    "        elif row['t'] == min_t:\n",
    "            break\n",
    "    df_i.drop(index=indices_to_drop, inplace=True)\n",
    "    df_i.to_csv(f'preproc_Datasets/datasets_straight/dataset_raw{n}.csv', index=False)\n",
    "    n += 1"
   ]
  },
  {
   "cell_type": "code",
   "execution_count": 93,
   "id": "uNbOyYNpEwpg",
   "metadata": {
    "ExecuteTime": {
     "end_time": "2025-06-24T18:45:57.779578Z",
     "start_time": "2025-06-24T18:45:57.775842Z"
    },
    "colab": {
     "base_uri": "https://localhost:8080/"
    },
    "id": "uNbOyYNpEwpg",
    "outputId": "226bb9ea-15ce-4554-dae9-eee53242b0dc"
   },
   "outputs": [],
   "source": [
    "# check\n",
    "for df_i in dfs_forward:\n",
    "    print(df_i)"
   ]
  },
  {
   "cell_type": "code",
   "execution_count": 94,
   "id": "B2arBS8DGySb",
   "metadata": {
    "ExecuteTime": {
     "end_time": "2025-06-24T18:45:57.798583Z",
     "start_time": "2025-06-24T18:45:57.780627Z"
    },
    "colab": {
     "base_uri": "https://localhost:8080/"
    },
    "id": "B2arBS8DGySb",
    "outputId": "1281b589-f9e9-4f93-eeff-7e1f37d95dc1"
   },
   "outputs": [
    {
     "name": "stderr",
     "output_type": "stream",
     "text": [
      "\"zip\" ­Ґ пў«пҐвбп ў­гваҐ­­Ґ© Ё«Ё ў­Ґи­Ґ©\n",
      "Є®¬ ­¤®©, ЁбЇ®«­пҐ¬®© Їа®Ја ¬¬®© Ё«Ё Ї ЄҐв­л¬ д ©«®¬.\n"
     ]
    }
   ],
   "source": [
    "!zip -r preproc_Datasets.zip preproc_Datasets/"
   ]
  },
  {
   "cell_type": "code",
   "execution_count": 94,
   "id": "HKHdq_roHVcB",
   "metadata": {
    "ExecuteTime": {
     "end_time": "2025-06-24T18:45:57.801641Z",
     "start_time": "2025-06-24T18:45:57.799589Z"
    },
    "id": "HKHdq_roHVcB"
   },
   "outputs": [],
   "source": []
  }
 ],
 "metadata": {
  "colab": {
   "provenance": []
  },
  "kernelspec": {
   "display_name": ".venv",
   "language": "python",
   "name": "python3"
  },
  "language_info": {
   "codemirror_mode": {
    "name": "ipython",
    "version": 2
   },
   "file_extension": ".py",
   "mimetype": "text/x-python",
   "name": "python",
   "nbconvert_exporter": "python",
   "pygments_lexer": "ipython2",
   "version": "3.10.12"
  }
 },
 "nbformat": 4,
 "nbformat_minor": 5
}
