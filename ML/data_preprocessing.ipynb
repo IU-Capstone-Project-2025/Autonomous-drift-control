{
 "cells": [
  {
   "cell_type": "code",
   "id": "f58c5aaca31e98de",
   "metadata": {
    "id": "f58c5aaca31e98de",
    "ExecuteTime": {
     "end_time": "2025-06-24T18:45:57.290524Z",
     "start_time": "2025-06-24T18:45:57.286870Z"
    }
   },
   "source": [
    "import pandas as pd\n",
    "from pathlib import Path\n",
    "import re"
   ],
   "outputs": [],
   "execution_count": 81
  },
  {
   "cell_type": "code",
   "id": "FF0QtY0w86VV",
   "metadata": {
    "colab": {
     "base_uri": "https://localhost:8080/"
    },
    "id": "FF0QtY0w86VV",
    "outputId": "d4567af9-650d-4cbf-df91-7f81db158094",
    "ExecuteTime": {
     "end_time": "2025-06-24T18:45:57.612454Z",
     "start_time": "2025-06-24T18:45:57.322531Z"
    }
   },
   "source": [
    "!unzip Datasets.zip -d Datasets"
   ],
   "outputs": [
    {
     "name": "stderr",
     "output_type": "stream",
     "text": [
      "\"unzip\" ­Ґ пў«пҐвбп ў­гваҐ­­Ґ© Ё«Ё ў­Ґи­Ґ©\n",
      "Є®¬ ­¤®©, ЁбЇ®«­пҐ¬®© Їа®Ја ¬¬®© Ё«Ё Ї ЄҐв­л¬ д ©«®¬.\n"
     ]
    }
   ],
   "execution_count": 82
  },
  {
   "cell_type": "code",
   "id": "initial_id",
   "metadata": {
    "collapsed": true,
    "id": "initial_id",
    "ExecuteTime": {
     "end_time": "2025-06-24T18:45:57.618326Z",
     "start_time": "2025-06-24T18:45:57.613460Z"
    }
   },
   "source": [
    "\n",
    "# --- 1. Где лежат ваши файлы -----------------------------------------------\n",
    "DATA_DIR = Path(\"Datasets/Datasets/datasets\")      # при необходимости поменяйте путь\n",
    "PATTERN   = \"dataset_raw*.csv\"            # шаблон имён файлов\n",
    "\n",
    "names = [\"t\", \"ax\", \"ay\", \"yawRate\", \"steer\", \"_trash\"]  # 6-я временная\n",
    "\n",
    "def natural_key(p):                     # сортировка raw1, raw2, …\n",
    "    parts = re.split(r\"(\\d+)\", p.stem)\n",
    "    return [int(s) if s.isdigit() else s for s in parts]\n",
    "\n",
    "dfs_circle = []\n",
    "for f in sorted(DATA_DIR.glob(PATTERN), key=natural_key):\n",
    "    df = pd.read_csv(\n",
    "        f,\n",
    "        names=names,        # задаём 6 имён вручную\n",
    "        engine=\"python\"     # терпимее к кривым строкам\n",
    "    )\n",
    "    dfs_circle.append(df.drop(columns=\"_trash\")[1:])  # удаляем фиктивный столбец\n"
   ],
   "outputs": [],
   "execution_count": 83
  },
  {
   "cell_type": "code",
   "id": "5307c3acda83efe",
   "metadata": {
    "colab": {
     "base_uri": "https://localhost:8080/"
    },
    "collapsed": true,
    "id": "5307c3acda83efe",
    "outputId": "6d7fb883-2acc-4090-f0d5-36f5ab8264a6",
    "ExecuteTime": {
     "end_time": "2025-06-24T18:45:57.651568Z",
     "start_time": "2025-06-24T18:45:57.619334Z"
    }
   },
   "source": [
    "dfs_circle"
   ],
   "outputs": [
    {
     "data": {
      "text/plain": [
       "[]"
      ]
     },
     "execution_count": 84,
     "metadata": {},
     "output_type": "execute_result"
    }
   ],
   "execution_count": 84
  },
  {
   "cell_type": "code",
   "id": "e8d32b0c34b64293",
   "metadata": {
    "id": "e8d32b0c34b64293",
    "ExecuteTime": {
     "end_time": "2025-06-24T18:45:57.658553Z",
     "start_time": "2025-06-24T18:45:57.653576Z"
    }
   },
   "source": [
    "# --- 1. Где лежат ваши файлы -----------------------------------------------\n",
    "DATA_DIR = Path(\"Datasets/Datasets/datasets_slide\")      # при необходимости поменяйте путь\n",
    "PATTERN   = \"dataset_raw*.csv\"            # шаблон имён файлов\n",
    "\n",
    "names = [\"t\", \"ax\", \"ay\", \"yawRate\", \"steer\", \"_trash\"]  # 6-я временная\n",
    "\n",
    "def natural_key(p):                     # сортировка raw1, raw2, …\n",
    "    parts = re.split(r\"(\\d+)\", p.stem)\n",
    "    return [int(s) if s.isdigit() else s for s in parts]\n",
    "\n",
    "dfs_zanos = []\n",
    "for f in sorted(DATA_DIR.glob(PATTERN), key=natural_key):\n",
    "    df = pd.read_csv(\n",
    "        f,\n",
    "        names=names,        # задаём 6 имён вручную\n",
    "        engine=\"python\"     # терпимее к кривым строкам\n",
    "    )\n",
    "    dfs_zanos.append(df.drop(columns=\"_trash\")[1:])  # удаляем фиктивный столбец\n"
   ],
   "outputs": [],
   "execution_count": 85
  },
  {
   "cell_type": "code",
   "id": "72b3b26bec69632c",
   "metadata": {
    "colab": {
     "base_uri": "https://localhost:8080/"
    },
    "collapsed": true,
    "id": "72b3b26bec69632c",
    "outputId": "55597ae7-3ce6-4c4c-ff2c-bdc309f68671",
    "ExecuteTime": {
     "end_time": "2025-06-24T18:45:57.665175Z",
     "start_time": "2025-06-24T18:45:57.659560Z"
    }
   },
   "source": [
    "dfs_zanos"
   ],
   "outputs": [
    {
     "data": {
      "text/plain": [
       "[]"
      ]
     },
     "execution_count": 86,
     "metadata": {},
     "output_type": "execute_result"
    }
   ],
   "execution_count": 86
  },
  {
   "cell_type": "code",
   "id": "29bd1d3c96b185c9",
   "metadata": {
    "id": "29bd1d3c96b185c9",
    "ExecuteTime": {
     "end_time": "2025-06-24T18:45:57.671720Z",
     "start_time": "2025-06-24T18:45:57.666181Z"
    }
   },
   "source": [
    "# --- 1. Где лежат ваши файлы -----------------------------------------------\n",
    "DATA_DIR = Path(\"Datasets/Datasets/datasets_straight\")      # при необходимости поменяйте путь\n",
    "PATTERN   = \"dataset_raw*.csv\"            # шаблон имён файлов\n",
    "\n",
    "names = [\"t\", \"ax\", \"ay\", \"yawRate\", \"steer\", \"_trash\"]  # 6-я временная\n",
    "\n",
    "def natural_key(p):                     # сортировка raw1, raw2, …\n",
    "    parts = re.split(r\"(\\d+)\", p.stem)\n",
    "    return [int(s) if s.isdigit() else s for s in parts]\n",
    "\n",
    "dfs_forward = []\n",
    "for f in sorted(DATA_DIR.glob(PATTERN), key=natural_key):\n",
    "    df = pd.read_csv(\n",
    "        f,\n",
    "        names=names,        # задаём 6 имён вручную\n",
    "        engine=\"python\"     # терпимее к кривым строкам\n",
    "    )\n",
    "    dfs_forward.append(df.drop(columns=\"_trash\")[1:])  # удаляем фиктивный столбец\n"
   ],
   "outputs": [],
   "execution_count": 87
  },
  {
   "cell_type": "code",
   "id": "1b77c0a55383b011",
   "metadata": {
    "id": "1b77c0a55383b011",
    "ExecuteTime": {
     "end_time": "2025-06-24T18:45:57.705831Z",
     "start_time": "2025-06-24T18:45:57.673308Z"
    }
   },
   "source": [
    "dfs_forward"
   ],
   "outputs": [
    {
     "data": {
      "text/plain": [
       "[]"
      ]
     },
     "execution_count": 88,
     "metadata": {},
     "output_type": "execute_result"
    }
   ],
   "execution_count": 88
  },
  {
   "cell_type": "code",
   "id": "52Q6aCTiFZ66",
   "metadata": {
    "id": "52Q6aCTiFZ66",
    "ExecuteTime": {
     "end_time": "2025-06-24T18:45:57.753418Z",
     "start_time": "2025-06-24T18:45:57.707053Z"
    }
   },
   "source": [
    "!mkdir -p preproc_Datasets/datasets\n",
    "!mkdir -p preproc_Datasets/datasets_slide\n",
    "!mkdir -p preproc_Datasets/datasets_straight"
   ],
   "outputs": [
    {
     "name": "stderr",
     "output_type": "stream",
     "text": [
      "ЋиЁЎЄ  ў бЁ­в ЄбЁбҐ Є®¬ ­¤л.\n",
      "ЋиЁЎЄ  ў бЁ­в ЄбЁбҐ Є®¬ ­¤л.\n",
      "ЋиЁЎЄ  ў бЁ­в ЄбЁбҐ Є®¬ ­¤л.\n"
     ]
    }
   ],
   "execution_count": 89
  },
  {
   "cell_type": "code",
   "id": "RBAQNMLe9top",
   "metadata": {
    "id": "RBAQNMLe9top",
    "ExecuteTime": {
     "end_time": "2025-06-24T18:45:57.759763Z",
     "start_time": "2025-06-24T18:45:57.754426Z"
    }
   },
   "source": [
    "n = 1\n",
    "for df_i in dfs_circle:\n",
    "    df_i.dropna(inplace=True)\n",
    "    min_t = df_i['t'].min()\n",
    "    indices_to_drop = []\n",
    "\n",
    "    for i, row in df_i.iterrows():\n",
    "        if row['t'] > min_t:\n",
    "            indices_to_drop.append(i)\n",
    "        elif row['t'] == min_t:\n",
    "            break\n",
    "    df_i.drop(index=indices_to_drop, inplace=True)\n",
    "    df_i.to_csv(f'preproc_Datasets/datasets/dataset_raw{n}.csv', index=False)\n",
    "    n += 1"
   ],
   "outputs": [],
   "execution_count": 90
  },
  {
   "cell_type": "code",
   "id": "JTUatl0I92OZ",
   "metadata": {
    "id": "JTUatl0I92OZ",
    "ExecuteTime": {
     "end_time": "2025-06-24T18:45:57.767243Z",
     "start_time": "2025-06-24T18:45:57.762774Z"
    }
   },
   "source": [
    "n = 1\n",
    "for df_i in dfs_zanos:\n",
    "    df_i.dropna(inplace=True)\n",
    "    min_t = df_i['t'].min()\n",
    "    indices_to_drop = []\n",
    "\n",
    "    for i, row in df_i.iterrows():\n",
    "        if row['t'] > min_t:\n",
    "            indices_to_drop.append(i)\n",
    "        elif row['t'] == min_t:\n",
    "            break\n",
    "    df_i.drop(index=indices_to_drop, inplace=True)\n",
    "    df_i.to_csv(f'preproc_Datasets/datasets_slide/dataset_raw{n}.csv', index=False)\n",
    "    n += 1"
   ],
   "outputs": [],
   "execution_count": 91
  },
  {
   "cell_type": "code",
   "id": "uIgxwVE6GWnF",
   "metadata": {
    "id": "uIgxwVE6GWnF",
    "ExecuteTime": {
     "end_time": "2025-06-24T18:45:57.774778Z",
     "start_time": "2025-06-24T18:45:57.768255Z"
    }
   },
   "source": [
    "n = 1\n",
    "for df_i in dfs_forward:\n",
    "    df_i.dropna(inplace=True)\n",
    "    min_t = df_i['t'].min()\n",
    "    indices_to_drop = []\n",
    "\n",
    "    for i, row in df_i.iterrows():\n",
    "        if row['t'] > min_t:\n",
    "            indices_to_drop.append(i)\n",
    "        elif row['t'] == min_t:\n",
    "            break\n",
    "    df_i.drop(index=indices_to_drop, inplace=True)\n",
    "    df_i.to_csv(f'preproc_Datasets/datasets_straight/dataset_raw{n}.csv', index=False)\n",
    "    n += 1"
   ],
   "outputs": [],
   "execution_count": 92
  },
  {
   "cell_type": "code",
   "id": "uNbOyYNpEwpg",
   "metadata": {
    "colab": {
     "base_uri": "https://localhost:8080/"
    },
    "id": "uNbOyYNpEwpg",
    "outputId": "226bb9ea-15ce-4554-dae9-eee53242b0dc",
    "ExecuteTime": {
     "end_time": "2025-06-24T18:45:57.779578Z",
     "start_time": "2025-06-24T18:45:57.775842Z"
    }
   },
   "source": [
    "# check\n",
    "for df_i in dfs_forward:\n",
    "    print(df_i)"
   ],
   "outputs": [],
   "execution_count": 93
  },
  {
   "cell_type": "code",
   "id": "B2arBS8DGySb",
   "metadata": {
    "colab": {
     "base_uri": "https://localhost:8080/"
    },
    "id": "B2arBS8DGySb",
    "outputId": "1281b589-f9e9-4f93-eeff-7e1f37d95dc1",
    "ExecuteTime": {
     "end_time": "2025-06-24T18:45:57.798583Z",
     "start_time": "2025-06-24T18:45:57.780627Z"
    }
   },
   "source": [
    "!zip -r preproc_Datasets.zip preproc_Datasets/"
   ],
   "outputs": [
    {
     "name": "stderr",
     "output_type": "stream",
     "text": [
      "\"zip\" ­Ґ пў«пҐвбп ў­гваҐ­­Ґ© Ё«Ё ў­Ґи­Ґ©\n",
      "Є®¬ ­¤®©, ЁбЇ®«­пҐ¬®© Їа®Ја ¬¬®© Ё«Ё Ї ЄҐв­л¬ д ©«®¬.\n"
     ]
    }
   ],
   "execution_count": 94
  },
  {
   "cell_type": "code",
   "id": "HKHdq_roHVcB",
   "metadata": {
    "id": "HKHdq_roHVcB",
    "ExecuteTime": {
     "end_time": "2025-06-24T18:45:57.801641Z",
     "start_time": "2025-06-24T18:45:57.799589Z"
    }
   },
   "source": [],
   "outputs": [],
   "execution_count": 94
  }
 ],
 "metadata": {
  "colab": {
   "provenance": []
  },
  "kernelspec": {
   "display_name": ".venv",
   "language": "python",
   "name": "python3"
  },
  "language_info": {
   "codemirror_mode": {
    "name": "ipython",
    "version": 2
   },
   "file_extension": ".py",
   "mimetype": "text/x-python",
   "name": "python",
   "nbconvert_exporter": "python",
   "pygments_lexer": "ipython2",
   "version": "3.10.12"
  }
 },
 "nbformat": 4,
 "nbformat_minor": 5
}
