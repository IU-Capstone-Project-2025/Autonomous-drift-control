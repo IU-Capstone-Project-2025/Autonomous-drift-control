{
 "cells": [
  {
   "cell_type": "code",
   "id": "initial_id",
   "metadata": {
    "collapsed": true,
    "ExecuteTime": {
     "end_time": "2025-06-24T21:14:41.320218Z",
     "start_time": "2025-06-24T21:14:41.182416Z"
    }
   },
   "source": [
    "import numpy as np, serial, torch, time\n",
    "import torch, torch.nn as nn, torch.optim as optim, numpy as np\n",
    "\n",
    "parm = torch.load(\"dyn_model.pt\", map_location=\"cpu\", weights_only=False)\n",
    "\n",
    "net = nn.Sequential(nn.Linear(5,128), nn.ReLU(),\n",
    "                    nn.Linear(128,128), nn.ReLU(),\n",
    "                    nn.Linear(128,4))\n",
    "net.load_state_dict(parm[\"net\"]); net.eval()\n",
    "\n",
    "def norm(x,mu,sig): return (x-mu)/sig\n",
    "def denorm(x,mu,sig): return x*sig+mu\n",
    "\n",
    "H   = 10      # horizon (≈0.2 s)\n",
    "K   = 200     # how many random sequences to shoot\n",
    "SIG = 0.3     # exploration std in action space\n",
    "# ---- константы рулевого привода ----\n",
    "STEER_MIN, STEER_MAX = 1968, 4004\n",
    "STEER_C   = (STEER_MIN + STEER_MAX) / 2\n",
    "STEER_SPAN= (STEER_MAX - STEER_MIN) / 2\n",
    "\n",
    "def mpc_control(s_now):\n",
    "    '''s_now: np.array shape (4,) in raw units'''\n",
    "    best_a0, best_cost = 0.0, 1e9\n",
    "    s0 = torch.tensor(norm(s_now, parm[\"mu_s\"], parm[\"sig_s\"])).float()\n",
    "\n",
    "    for _ in range(K):\n",
    "        # sample action sequence around 0\n",
    "        a_seq = np.random.normal(0, SIG, size=(H,))\n",
    "        cost  = 0.0\n",
    "        s     = s0.clone()\n",
    "        for a in a_seq:\n",
    "            a_n = torch.tensor(norm([a],[parm[\"mu_a\"]],[parm[\"sig_a\"]])).float()\n",
    "            s   = net(torch.cat([s, a_n]))\n",
    "            s_d = denorm(s, parm[\"mu_sn\"], parm[\"sig_sn\"])\n",
    "            yaw, ay = float(s_d[0]), float(s_d[1])\n",
    "            cost += yaw*yaw + 0.5*ay*ay           # quadratic cost\n",
    "        if cost < best_cost:\n",
    "            best_cost, best_a0 = cost, a_seq[0]\n",
    "\n",
    "    # convert back to PWM\n",
    "    steer_pwm = int(best_a0 * STEER_SPAN + STEER_C)\n",
    "    steer_pwm = int(np.clip(steer_pwm, STEER_MIN, STEER_MAX))\n",
    "    return steer_pwm\n",
    "\n",
    "# ---------- example of serial loop ----------\n",
    "ser = serial.Serial(\"/dev/ttyUSB0\", 115200)\n",
    "while True:\n",
    "    line = ser.readline().decode().strip()\n",
    "    t,ax,ay,yr,steer = map(float, line.split(\",\")[:5])\n",
    "    # use your own ax-world / ay-world calc or Kalman if needed\n",
    "    s_now = np.array([yr, ay, ax, 0.0])   # angular_accel≈0 for first step\n",
    "    steer_cmd = mpc_control(s_now)\n",
    "    ser.write(f\"{steer_cmd}\\n\".encode())"
   ],
   "outputs": [
    {
     "ename": "SerialException",
     "evalue": "could not open port '/dev/ttyUSB0': FileNotFoundError(2, 'Системе не удается найти указанный путь.', None, 3)",
     "output_type": "error",
     "traceback": [
      "\u001B[31m---------------------------------------------------------------------------\u001B[39m",
      "\u001B[31mSerialException\u001B[39m                           Traceback (most recent call last)",
      "\u001B[36mCell\u001B[39m\u001B[36m \u001B[39m\u001B[32mIn[3]\u001B[39m\u001B[32m, line 47\u001B[39m\n\u001B[32m     44\u001B[39m     \u001B[38;5;28;01mreturn\u001B[39;00m steer_pwm\n\u001B[32m     46\u001B[39m \u001B[38;5;66;03m# ---------- example of serial loop ----------\u001B[39;00m\n\u001B[32m---> \u001B[39m\u001B[32m47\u001B[39m ser = \u001B[43mserial\u001B[49m\u001B[43m.\u001B[49m\u001B[43mSerial\u001B[49m\u001B[43m(\u001B[49m\u001B[33;43m\"\u001B[39;49m\u001B[33;43m/dev/ttyUSB0\u001B[39;49m\u001B[33;43m\"\u001B[39;49m\u001B[43m,\u001B[49m\u001B[43m \u001B[49m\u001B[32;43m115200\u001B[39;49m\u001B[43m)\u001B[49m\n\u001B[32m     48\u001B[39m \u001B[38;5;28;01mwhile\u001B[39;00m \u001B[38;5;28;01mTrue\u001B[39;00m:\n\u001B[32m     49\u001B[39m     line = ser.readline().decode().strip()\n",
      "\u001B[36mFile \u001B[39m\u001B[32m~\\Desktop\\Код\\Питон\\acm\\.venv\\Lib\\site-packages\\serial\\serialwin32.py:33\u001B[39m, in \u001B[36mSerial.__init__\u001B[39m\u001B[34m(self, *args, **kwargs)\u001B[39m\n\u001B[32m     31\u001B[39m \u001B[38;5;28mself\u001B[39m._overlapped_read = \u001B[38;5;28;01mNone\u001B[39;00m\n\u001B[32m     32\u001B[39m \u001B[38;5;28mself\u001B[39m._overlapped_write = \u001B[38;5;28;01mNone\u001B[39;00m\n\u001B[32m---> \u001B[39m\u001B[32m33\u001B[39m \u001B[38;5;28;43msuper\u001B[39;49m\u001B[43m(\u001B[49m\u001B[43mSerial\u001B[49m\u001B[43m,\u001B[49m\u001B[43m \u001B[49m\u001B[38;5;28;43mself\u001B[39;49m\u001B[43m)\u001B[49m\u001B[43m.\u001B[49m\u001B[34;43m__init__\u001B[39;49m\u001B[43m(\u001B[49m\u001B[43m*\u001B[49m\u001B[43margs\u001B[49m\u001B[43m,\u001B[49m\u001B[43m \u001B[49m\u001B[43m*\u001B[49m\u001B[43m*\u001B[49m\u001B[43mkwargs\u001B[49m\u001B[43m)\u001B[49m\n",
      "\u001B[36mFile \u001B[39m\u001B[32m~\\Desktop\\Код\\Питон\\acm\\.venv\\Lib\\site-packages\\serial\\serialutil.py:244\u001B[39m, in \u001B[36mSerialBase.__init__\u001B[39m\u001B[34m(self, port, baudrate, bytesize, parity, stopbits, timeout, xonxoff, rtscts, write_timeout, dsrdtr, inter_byte_timeout, exclusive, **kwargs)\u001B[39m\n\u001B[32m    241\u001B[39m     \u001B[38;5;28;01mraise\u001B[39;00m \u001B[38;5;167;01mValueError\u001B[39;00m(\u001B[33m'\u001B[39m\u001B[33munexpected keyword arguments: \u001B[39m\u001B[38;5;132;01m{!r}\u001B[39;00m\u001B[33m'\u001B[39m.format(kwargs))\n\u001B[32m    243\u001B[39m \u001B[38;5;28;01mif\u001B[39;00m port \u001B[38;5;129;01mis\u001B[39;00m \u001B[38;5;129;01mnot\u001B[39;00m \u001B[38;5;28;01mNone\u001B[39;00m:\n\u001B[32m--> \u001B[39m\u001B[32m244\u001B[39m     \u001B[38;5;28;43mself\u001B[39;49m\u001B[43m.\u001B[49m\u001B[43mopen\u001B[49m\u001B[43m(\u001B[49m\u001B[43m)\u001B[49m\n",
      "\u001B[36mFile \u001B[39m\u001B[32m~\\Desktop\\Код\\Питон\\acm\\.venv\\Lib\\site-packages\\serial\\serialwin32.py:64\u001B[39m, in \u001B[36mSerial.open\u001B[39m\u001B[34m(self)\u001B[39m\n\u001B[32m     62\u001B[39m \u001B[38;5;28;01mif\u001B[39;00m \u001B[38;5;28mself\u001B[39m._port_handle == win32.INVALID_HANDLE_VALUE:\n\u001B[32m     63\u001B[39m     \u001B[38;5;28mself\u001B[39m._port_handle = \u001B[38;5;28;01mNone\u001B[39;00m    \u001B[38;5;66;03m# 'cause __del__ is called anyway\u001B[39;00m\n\u001B[32m---> \u001B[39m\u001B[32m64\u001B[39m     \u001B[38;5;28;01mraise\u001B[39;00m SerialException(\u001B[33m\"\u001B[39m\u001B[33mcould not open port \u001B[39m\u001B[38;5;132;01m{!r}\u001B[39;00m\u001B[33m: \u001B[39m\u001B[38;5;132;01m{!r}\u001B[39;00m\u001B[33m\"\u001B[39m.format(\u001B[38;5;28mself\u001B[39m.portstr, ctypes.WinError()))\n\u001B[32m     66\u001B[39m \u001B[38;5;28;01mtry\u001B[39;00m:\n\u001B[32m     67\u001B[39m     \u001B[38;5;28mself\u001B[39m._overlapped_read = win32.OVERLAPPED()\n",
      "\u001B[31mSerialException\u001B[39m: could not open port '/dev/ttyUSB0': FileNotFoundError(2, 'Системе не удается найти указанный путь.', None, 3)"
     ]
    }
   ],
   "execution_count": 3
  },
  {
   "metadata": {
    "ExecuteTime": {
     "end_time": "2025-06-24T21:09:18.500966Z",
     "start_time": "2025-06-24T21:09:18.496880Z"
    }
   },
   "cell_type": "code",
   "source": "",
   "id": "9a27bc47410eb2cb",
   "outputs": [],
   "execution_count": 1
  },
  {
   "metadata": {},
   "cell_type": "code",
   "outputs": [],
   "execution_count": null,
   "source": "",
   "id": "7612e4a59ac2a297"
  }
 ],
 "metadata": {
  "kernelspec": {
   "display_name": "Python 3",
   "language": "python",
   "name": "python3"
  },
  "language_info": {
   "codemirror_mode": {
    "name": "ipython",
    "version": 2
   },
   "file_extension": ".py",
   "mimetype": "text/x-python",
   "name": "python",
   "nbconvert_exporter": "python",
   "pygments_lexer": "ipython2",
   "version": "2.7.6"
  }
 },
 "nbformat": 4,
 "nbformat_minor": 5
}
