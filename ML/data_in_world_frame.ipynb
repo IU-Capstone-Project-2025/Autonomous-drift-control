{
 "nbformat": 4,
 "nbformat_minor": 0,
 "metadata": {
  "colab": {
   "provenance": []
  },
  "kernelspec": {
   "name": "python3",
   "display_name": "Python 3 (ipykernel)",
   "language": "python"
  },
  "language_info": {
   "name": "python"
  }
 },
 "cells": [
  {
   "cell_type": "code",
   "metadata": {
    "id": "Cl5FZNdRI8Yh",
    "ExecuteTime": {
     "end_time": "2025-06-24T18:52:34.247526Z",
     "start_time": "2025-06-24T18:52:34.210892Z"
    }
   },
   "source": [
    "import pandas as pd\n",
    "import numpy as np\n",
    "import matplotlib.pyplot as plt\n",
    "from pathlib import Path\n",
    "import re"
   ],
   "outputs": [],
   "execution_count": 27
  },
  {
   "cell_type": "code",
   "source": [
    "DATA_DIR = Path(\"preproc_Datasets/preproc_Datasets/datasets\")      # при необходимости поменяйте путь\n",
    "PATTERN   = \"dataset_raw*.csv\"            # шаблон имён файлов\n",
    "\n",
    "names = [\"t\", \"ax\", \"ay\", \"yawRate\", \"steer\"]  # 6-я временная\n",
    "\n",
    "def natural_key(p):                     # сортировка raw1, raw2, …\n",
    "    parts = re.split(r\"(\\d+)\", p.stem)\n",
    "    return [int(s) if s.isdigit() else s for s in parts]\n",
    "\n",
    "dfs_circle = []\n",
    "for f in sorted(DATA_DIR.glob(PATTERN), key=natural_key):\n",
    "    df = pd.read_csv(\n",
    "        f,\n",
    "        engine=\"python\"     # терпимее к кривым строкам\n",
    "    )\n",
    "    dfs_circle.append(df)"
   ],
   "metadata": {
    "id": "Losff__0JlYG",
    "ExecuteTime": {
     "end_time": "2025-06-24T18:52:34.338013Z",
     "start_time": "2025-06-24T18:52:34.332690Z"
    }
   },
   "outputs": [],
   "execution_count": 28
  },
  {
   "cell_type": "code",
   "source": [
    "DATA_DIR = Path(\"preproc_Datasets/preproc_Datasets/datasets_slide\")      # при необходимости поменяйте путь\n",
    "PATTERN   = \"dataset_raw*.csv\"            # шаблон имён файлов\n",
    "\n",
    "names = [\"t\", \"ax\", \"ay\", \"yawRate\", \"steer\"]  # 6-я временная\n",
    "\n",
    "def natural_key(p):                     # сортировка raw1, raw2, …\n",
    "    parts = re.split(r\"(\\d+)\", p.stem)\n",
    "    return [int(s) if s.isdigit() else s for s in parts]\n",
    "\n",
    "dfs_zanos = []\n",
    "for f in sorted(DATA_DIR.glob(PATTERN), key=natural_key):\n",
    "    df = pd.read_csv(\n",
    "        f,\n",
    "        engine=\"python\"     # терпимее к кривым строкам\n",
    "    )\n",
    "    dfs_zanos.append(df)"
   ],
   "metadata": {
    "id": "4IV7QsWJKCW1",
    "ExecuteTime": {
     "end_time": "2025-06-24T18:52:34.372811Z",
     "start_time": "2025-06-24T18:52:34.366999Z"
    }
   },
   "outputs": [],
   "execution_count": 29
  },
  {
   "cell_type": "code",
   "source": [
    "DATA_DIR = Path(\"preproc_Datasets/preproc_Datasets/datasets_straight\")      # при необходимости поменяйте путь\n",
    "PATTERN   = \"dataset_raw*.csv\"            # шаблон имён файлов\n",
    "\n",
    "names = [\"t\", \"ax\", \"ay\", \"yawRate\", \"steer\"]  # 6-я временная\n",
    "\n",
    "def natural_key(p):                     # сортировка raw1, raw2, …\n",
    "    parts = re.split(r\"(\\d+)\", p.stem)\n",
    "    return [int(s) if s.isdigit() else s for s in parts]\n",
    "\n",
    "dfs_forward = []\n",
    "for f in sorted(DATA_DIR.glob(PATTERN), key=natural_key):\n",
    "    df = pd.read_csv(\n",
    "        f,\n",
    "        engine=\"python\"     # терпимее к кривым строкам\n",
    "    )\n",
    "    dfs_forward.append(df)"
   ],
   "metadata": {
    "id": "NBKHhT84NMqd",
    "ExecuteTime": {
     "end_time": "2025-06-24T18:52:34.387592Z",
     "start_time": "2025-06-24T18:52:34.380613Z"
    }
   },
   "outputs": [],
   "execution_count": 30
  },
  {
   "cell_type": "code",
   "source": [
    "def data_to_world_frame(df):\n",
    "    # Время в секундах\n",
    "    df[\"t_sec\"] = df[\"t\"] / 1000\n",
    "    dt = df[\"t_sec\"].diff().fillna(0.02)  # подставим 20 мс, если NaN\n",
    "\n",
    "    # Интеграция угла\n",
    "    yaw = [0]\n",
    "    for i in range(1, len(df)):\n",
    "        dyaw = df[\"yawRate\"].iloc[i] * dt.iloc[i]\n",
    "        yaw.append(yaw[-1] + dyaw)\n",
    "    df[\"yaw\"] = yaw\n",
    "\n",
    "    # Перевод угла в радианы\n",
    "    df[\"yaw_rad\"] = np.deg2rad(df[\"yaw\"])\n",
    "\n",
    "    # Поворот локального ускорения в мировую систему координат\n",
    "    ax_world = []\n",
    "    ay_world = []\n",
    "\n",
    "    for i in range(len(df)):\n",
    "        theta = df[\"yaw_rad\"].iloc[i]\n",
    "        ax = df[\"ax\"].iloc[i]\n",
    "        ay = df[\"ay\"].iloc[i]\n",
    "\n",
    "        ax_w = ax * np.cos(theta) - ay * np.sin(theta)\n",
    "        ay_w = ax * np.sin(theta) + ay * np.cos(theta)\n",
    "\n",
    "        ax_world.append(ax_w)\n",
    "        ay_world.append(ay_w)\n",
    "\n",
    "    df[\"ax_world\"] = ax_world\n",
    "    df[\"ay_world\"] = ay_world\n",
    "\n",
    "    # Производная yawRate → угловое ускорение\n",
    "    df[\"angular_accel\"] = df[\"yawRate\"].diff() / dt\n",
    "    df[\"angular_accel\"] = df[\"angular_accel\"].fillna(0)\n",
    "\n",
    "    plt.plot(df[\"t_sec\"], df[\"angular_accel\"], label=\"Angular Acceleration\")\n",
    "    plt.xlabel(\"Time (s)\")\n",
    "    plt.legend()\n",
    "    plt.show()\n",
    "\n",
    "    return df"
   ],
   "metadata": {
    "id": "iS5dL6LQJCJq",
    "ExecuteTime": {
     "end_time": "2025-06-24T18:52:34.397014Z",
     "start_time": "2025-06-24T18:52:34.389685Z"
    }
   },
   "outputs": [],
   "execution_count": 31
  },
  {
   "cell_type": "code",
   "source": [
    "!mkdir -p data_in_world_frame/datasets\n",
    "!mkdir -p data_in_world_frame/datasets_slide\n",
    "!mkdir -p data_in_world_frame/datasets_straight"
   ],
   "metadata": {
    "id": "LSk2loUmMg10",
    "ExecuteTime": {
     "end_time": "2025-06-24T18:52:34.458326Z",
     "start_time": "2025-06-24T18:52:34.409984Z"
    }
   },
   "outputs": [
    {
     "name": "stderr",
     "output_type": "stream",
     "text": [
      "ЋиЁЎЄ  ў бЁ­в ЄбЁбҐ Є®¬ ­¤л.\n",
      "ЋиЁЎЄ  ў бЁ­в ЄбЁбҐ Є®¬ ­¤л.\n",
      "ЋиЁЎЄ  ў бЁ­в ЄбЁбҐ Є®¬ ­¤л.\n"
     ]
    }
   ],
   "execution_count": 32
  },
  {
   "cell_type": "code",
   "source": [
    "n = 1\n",
    "for df_i in dfs_circle:\n",
    "    df_new = data_to_world_frame(df_i)\n",
    "    df_new.to_csv(f'data_in_world_frame/data_in_world_frame/datasets/dataset_raw{n}.csv', index=False)\n",
    "    n += 1"
   ],
   "metadata": {
    "colab": {
     "base_uri": "https://localhost:8080/",
     "height": 1000
    },
    "id": "7xXPhxDjJQNP",
    "outputId": "69221d0b-060f-429b-d0a7-2dd7c875f9af",
    "ExecuteTime": {
     "end_time": "2025-06-24T18:52:34.464775Z",
     "start_time": "2025-06-24T18:52:34.460317Z"
    }
   },
   "outputs": [],
   "execution_count": 33
  },
  {
   "cell_type": "code",
   "source": [
    "n = 1\n",
    "for df_i in dfs_zanos:\n",
    "    df_new = data_to_world_frame(df_i)\n",
    "    df_new.to_csv(f'data_in_world_frame/data_in_world_frame/datasets_slide/dataset_raw{n}.csv', index=False)\n",
    "    n += 1"
   ],
   "metadata": {
    "colab": {
     "base_uri": "https://localhost:8080/",
     "height": 1000
    },
    "id": "Tj-BYhvrM_lo",
    "outputId": "b9609458-7d81-4bcb-a4e3-ec906594a713",
    "ExecuteTime": {
     "end_time": "2025-06-24T18:52:34.470684Z",
     "start_time": "2025-06-24T18:52:34.466775Z"
    }
   },
   "outputs": [],
   "execution_count": 34
  },
  {
   "cell_type": "code",
   "source": [
    "n = 1\n",
    "for df_i in dfs_forward:\n",
    "    df_new = data_to_world_frame(df_i)\n",
    "    df_new.to_csv(f'data_in_world_frame/data_in_world_frame/datasets_straight/dataset_raw{n}.csv', index=False)\n",
    "    n += 1"
   ],
   "metadata": {
    "colab": {
     "base_uri": "https://localhost:8080/",
     "height": 1000
    },
    "id": "NVeEKWpdNCSA",
    "outputId": "2832e065-4b10-4db5-f2e7-091d45e19d81",
    "ExecuteTime": {
     "end_time": "2025-06-24T18:52:34.478194Z",
     "start_time": "2025-06-24T18:52:34.473678Z"
    }
   },
   "outputs": [],
   "execution_count": 35
  },
  {
   "cell_type": "code",
   "source": [
    "!zip -r data_in_world_frame.zip data_in_world_frame/"
   ],
   "metadata": {
    "colab": {
     "base_uri": "https://localhost:8080/"
    },
    "id": "QiYyI0-UJSp7",
    "outputId": "aca63034-71ff-4360-c8c1-116dec6b7de3",
    "ExecuteTime": {
     "end_time": "2025-06-24T18:52:34.509015Z",
     "start_time": "2025-06-24T18:52:34.479133Z"
    }
   },
   "outputs": [
    {
     "name": "stderr",
     "output_type": "stream",
     "text": [
      "\"zip\" ­Ґ пў«пҐвбп ў­гваҐ­­Ґ© Ё«Ё ў­Ґи­Ґ©\n",
      "Є®¬ ­¤®©, ЁбЇ®«­пҐ¬®© Їа®Ја ¬¬®© Ё«Ё Ї ЄҐв­л¬ д ©«®¬.\n"
     ]
    }
   ],
   "execution_count": 36
  },
  {
   "cell_type": "code",
   "source": [],
   "metadata": {
    "id": "-NXpkDekN3Y9",
    "ExecuteTime": {
     "end_time": "2025-06-24T18:52:34.512596Z",
     "start_time": "2025-06-24T18:52:34.510006Z"
    }
   },
   "outputs": [],
   "execution_count": 36
  }
 ]
}
