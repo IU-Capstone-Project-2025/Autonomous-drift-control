{
 "cells": [
  {
   "cell_type": "code",
   "execution_count": null,
   "id": "initial_id",
   "metadata": {
    "collapsed": true
   },
   "outputs": [],
   "source": [
    "import pandas as pd, numpy as np, glob\n",
    "\n",
    "all_rows = []\n",
    "for fn in glob.glob(\"../full_dataset/*.csv\"):\n",
    "    df = pd.read_csv(fn)\n",
    "    # scale steering to [-1,1]\n",
    "    df[\"a\"] = (df[\"steer\"] - 2700) / 900      # adjust centre / span if different\n",
    "    # next-step columns\n",
    "    df[\"yawRate_n\"]     = df[\"yawRate\"].shift(-1)\n",
    "    df[\"ay_world_n\"]    = df[\"ay_world\"].shift(-1)\n",
    "    df[\"ax_n\"]          = df[\"ax\"].shift(-1)\n",
    "    df[\"angular_accel_n\"] = df[\"angular_accel\"].shift(-1)\n",
    "    df = df.dropna()\n",
    "\n",
    "    s  = df[[\"yawRate\",\"ay_world\",\"ax\",\"angular_accel\"]].values\n",
    "    a  = df[[\"a\"]].values\n",
    "    sn = df[[\"yawRate_n\",\"ay_world_n\",\"ax_n\",\"angular_accel_n\"]].values\n",
    "    r  = -np.abs(df[\"yawRate\"]) - 0.5*np.abs(df[\"ay_world\"])\n",
    "    all_rows.append(np.hstack([s, a, sn, r.values[:,None]]))\n",
    "\n",
    "np.savez(\"model_dataset.npz\", data=np.vstack(all_rows))"
   ]
  }
 ],
 "metadata": {
  "kernelspec": {
   "display_name": "Python 3",
   "language": "python",
   "name": "python3"
  },
  "language_info": {
   "codemirror_mode": {
    "name": "ipython",
    "version": 2
   },
   "file_extension": ".py",
   "mimetype": "text/x-python",
   "name": "python",
   "nbconvert_exporter": "python",
   "pygments_lexer": "ipython2",
   "version": "2.7.6"
  }
 },
 "nbformat": 4,
 "nbformat_minor": 5
}
